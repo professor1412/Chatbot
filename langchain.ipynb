{
 "cells": [
  {
   "cell_type": "code",
   "execution_count": 1,
   "metadata": {},
   "outputs": [],
   "source": [
    "from langchain_groq import ChatGroq"
   ]
  },
  {
   "cell_type": "code",
   "execution_count": 2,
   "metadata": {},
   "outputs": [],
   "source": [
    "import os\n",
    "from dotenv import load_dotenv\n",
    "load_dotenv()\n",
    "\n",
    "groq_api_key = os.getenv(\"GROQ_API_KEY\")"
   ]
  },
  {
   "cell_type": "code",
   "execution_count": 3,
   "metadata": {},
   "outputs": [],
   "source": [
    "chat = ChatGroq(model = \"llama-3.1-8b-instant\", api_key=groq_api_key)"
   ]
  },
  {
   "cell_type": "code",
   "execution_count": 4,
   "metadata": {},
   "outputs": [
    {
     "data": {
      "text/plain": [
       "AIMessage(content='How can I assist you today?', additional_kwargs={}, response_metadata={'token_usage': {'completion_tokens': 8, 'prompt_tokens': 36, 'total_tokens': 44, 'completion_time': 0.010666667, 'prompt_time': 0.007331204, 'queue_time': 0.0069797159999999995, 'total_time': 0.017997871}, 'model_name': 'llama-3.1-8b-instant', 'system_fingerprint': 'fp_9cb648b966', 'finish_reason': 'stop', 'logprobs': None}, id='run-d856434a-c203-49a2-b919-75339e16fdae-0', usage_metadata={'input_tokens': 36, 'output_tokens': 8, 'total_tokens': 44})"
      ]
     },
     "execution_count": 4,
     "metadata": {},
     "output_type": "execute_result"
    }
   ],
   "source": [
    "chat.invoke(\"Hello\")"
   ]
  },
  {
   "cell_type": "code",
   "execution_count": 5,
   "metadata": {},
   "outputs": [
    {
     "name": "stderr",
     "output_type": "stream",
     "text": [
      "/tmp/ipykernel_24572/4179980097.py:2: LangChainDeprecationWarning: The method `BaseChatModel.predict` was deprecated in langchain-core 0.1.7 and will be removed in 1.0. Use :meth:`~invoke` instead.\n",
      "  print(chat.predict(text))\n"
     ]
    },
    {
     "name": "stdout",
     "output_type": "stream",
     "text": [
      "The sum of 5 + 5 is 10.\n"
     ]
    }
   ],
   "source": [
    "text= \"what is the sum of 5+5\"\n",
    "print(chat.predict(text))"
   ]
  },
  {
   "cell_type": "code",
   "execution_count": 6,
   "metadata": {},
   "outputs": [],
   "source": [
    "load_dotenv()\n",
    "huggingface_api_key= os.getenv(\"HUGGINGFACE_API_TOKEN\")\n"
   ]
  },
  {
   "cell_type": "code",
   "execution_count": 7,
   "metadata": {},
   "outputs": [
    {
     "name": "stderr",
     "output_type": "stream",
     "text": [
      "/tmp/ipykernel_24572/3259376692.py:3: LangChainDeprecationWarning: The class `HuggingFaceHub` was deprecated in LangChain 0.0.21 and will be removed in 1.0. An updated version of the class exists in the :class:`~langchain-huggingface package and should be used instead. To use it run `pip install -U :class:`~langchain-huggingface` and import as `from :class:`~langchain_huggingface import HuggingFaceEndpoint``.\n",
      "  llm_huggingface=HuggingFaceHub(repo_id=\"google/flan-t5-large\",model_kwargs={\"temperature\":0,\"max_length\":64})\n",
      "/home/professor/langchain/myenv/lib/python3.12/site-packages/tqdm/auto.py:21: TqdmWarning: IProgress not found. Please update jupyter and ipywidgets. See https://ipywidgets.readthedocs.io/en/stable/user_install.html\n",
      "  from .autonotebook import tqdm as notebook_tqdm\n"
     ]
    }
   ],
   "source": [
    "from langchain import HuggingFaceHub\n",
    "\n",
    "llm_huggingface=HuggingFaceHub(repo_id=\"google/flan-t5-large\",model_kwargs={\"temperature\":0,\"max_length\":64})"
   ]
  },
  {
   "cell_type": "code",
   "execution_count": 8,
   "metadata": {},
   "outputs": [
    {
     "name": "stderr",
     "output_type": "stream",
     "text": [
      "/tmp/ipykernel_24572/975681411.py:2: LangChainDeprecationWarning: The method `BaseLLM.predict` was deprecated in langchain-core 0.1.7 and will be removed in 1.0. Use :meth:`~invoke` instead.\n",
      "  output=llm_huggingface.predict(text)\n"
     ]
    },
    {
     "name": "stdout",
     "output_type": "stream",
     "text": [
      "Delhi\n"
     ]
    }
   ],
   "source": [
    "text=\"where is the capital of india\"\n",
    "output=llm_huggingface.predict(text)\n",
    "print(output)"
   ]
  },
  {
   "cell_type": "code",
   "execution_count": 9,
   "metadata": {},
   "outputs": [
    {
     "name": "stdout",
     "output_type": "stream",
     "text": [
      "A little girl named Sarah was born in the year 1899. She was the only child in her family. She was born in the year 1899. She was the only child in her family.\n"
     ]
    }
   ],
   "source": [
    "output=llm_huggingface.predict(\"can you write a story on small kids\")\n",
    "print(output)"
   ]
  },
  {
   "cell_type": "code",
   "execution_count": 10,
   "metadata": {},
   "outputs": [
    {
     "name": "stdout",
     "output_type": "stream",
     "text": [
      "**The Little Explorer**\n",
      "\n",
      "Once upon a time, in a small village surrounded by lush green forests and rolling hills, there lived a little boy named Max. Max was six years old, with a mop of curly brown hair and bright, inquisitive eyes that sparkled with wonder. He loved to explore and discover new things, and his village was full of secrets waiting to be uncovered.\n",
      "\n",
      "One sunny morning, Max set out on an adventure, armed with a small backpack, a bottle of water, and a sense of curiosity. He had heard stories of a hidden stream that ran through the forest, and he was determined to find it. His parents had warned him about the dangers of the forest, but Max was not afraid. He was a brave little explorer, and he knew that the forest was full of magic and mystery.\n",
      "\n",
      "As he wandered deeper into the forest, the trees grew taller and the path grew narrower. Max had to push aside branches and fight his way through thick underbrush, but he didn't let that stop him. He was on a mission to find the hidden stream. Suddenly, he heard the sound of running water in the distance. His heart skipped a beat with excitement as he quickened his pace.\n",
      "\n",
      "Finally, he came upon a clearing, and in the center of it, he saw the most beautiful sight he had ever seen. A crystal-clear stream bubbled and flowed through the forest, its source and destination unknown. Max gasped in wonder, feeling as though he had stumbled upon a treasure. He sat down on a nearby rock, dipping his toes in the cool water, and drank in the beauty of the moment.\n",
      "\n",
      "As he sat there, he noticed a small fish swimming in the stream. Max watched in awe as the fish darted back and forth, its scales shimmering in the sunlight. He felt a sense of connection to the natural world, and his heart swelled with joy and wonder.\n",
      "\n",
      "Just then, a gentle breeze rustled the leaves, and a soft voice whispered in Max's ear. \"Welcome, little explorer,\" it said. \"I see you've found the hidden stream. It's a special place, where the magic of the forest comes alive.\" Max looked around, trying to see who was speaking to him, but there was no one in sight.\n",
      "\n",
      "The voice continued, \"I'm the spirit of the forest. I've been watching you, Max, and I'm proud of your bravery and curiosity. You have a special gift, one that will take you on many more adventures in the years to come.\"\n",
      "\n",
      "Max listened in amazement as the spirit of the forest shared its secrets with him. He learned about the ancient trees, the creatures that lived in the forest, and the magic that flowed through the streams and rivers. As the sun began to set, the spirit vanished, leaving Max to ponder the wonders he had discovered.\n",
      "\n",
      "As he made his way back to the village, Max felt a sense of pride and accomplishment. He had explored the unknown, and he had discovered a piece of himself in the process. From that day on, Max knew that he would always be drawn to the forest, and that its secrets and magic would be his to uncover and cherish.\n",
      "\n",
      "And so, the little explorer continued to venture into the forest, always seeking out new adventures and discovering the wonders of the natural world. His heart remained full of wonder, and his soul remained connected to the magic of the forest.\n"
     ]
    }
   ],
   "source": [
    "output=chat.predict(\"can you write a story on small kid\")\n",
    "print(output)"
   ]
  },
  {
   "cell_type": "code",
   "execution_count": 18,
   "metadata": {},
   "outputs": [
    {
     "data": {
      "text/plain": [
       "'Tell me the capital of this India'"
      ]
     },
     "execution_count": 18,
     "metadata": {},
     "output_type": "execute_result"
    }
   ],
   "source": [
    "from langchain.prompts import PromptTemplate\n",
    "\n",
    "prompt_template=PromptTemplate(input_variables=[\"country\"],\n",
    "template=\"Tell me the capital of this {country}\")\n",
    "\n",
    "prompt_template.format(country=\"India\")"
   ]
  },
  {
   "cell_type": "code",
   "execution_count": 19,
   "metadata": {},
   "outputs": [
    {
     "name": "stdout",
     "output_type": "stream",
     "text": [
      "There are 28 states in India, so could you please specify which state you are referring to?\n"
     ]
    }
   ],
   "source": [
    "from langchain.chains import LLMChain\n",
    "chain= LLMChain(llm=chat,prompt=prompt_template)\n",
    "print(chain.run(\"India\"))"
   ]
  },
  {
   "cell_type": "markdown",
   "metadata": {},
   "source": [
    "Combining Multiple Chains Using Simple Sequential Chain"
   ]
  },
  {
   "cell_type": "code",
   "execution_count": 22,
   "metadata": {},
   "outputs": [],
   "source": [
    "capital_template=PromptTemplate(input_variables=['country'],\n",
    "template=\"please tell me the capital of the {country}\")\n",
    "\n",
    "capital_chain=LLMChain(llm=chat,prompt=capital_template)\n",
    "\n",
    "famous_template= PromptTemplate(input_variables=['capital'],\n",
    "template=\"suggest me some amazing palces to visit in {capital}\")"
   ]
  },
  {
   "cell_type": "code",
   "execution_count": 15,
   "metadata": {},
   "outputs": [],
   "source": [
    "famous_chain= LLMChain(llm=chat,prompt=famous_template)"
   ]
  },
  {
   "cell_type": "code",
   "execution_count": 21,
   "metadata": {},
   "outputs": [
    {
     "data": {
      "text/plain": [
       "\"New Delhi, the capital of India, is a city with a rich history, diverse culture, and a blend of old and new architecture. Here are some amazing places to visit in New Delhi:\\n\\n1. **Red Fort (Lal Qila)**: A UNESCO World Heritage Site and one of the most iconic landmarks in India, the Red Fort was built in 1648 by Mughal Emperor Shah Jahan. It's a must-visit attraction in New Delhi.\\n2. **Qutub Minar**: Another UNESCO World Heritage Site, Qutub Minar is the tallest minaret in India and a testament to the country's rich Islamic heritage. Built in 1199, it stands at 72.5 meters tall.\\n3. **India Gate**: Built in 1931, India Gate is a war memorial that honors the soldiers who died in World War I and the Third Afghan War. At night, it's beautifully lit up and makes for a great photo opportunity.\\n4. **Humayun's Tomb**: Another UNESCO World Heritage Site, Humayun's Tomb is the final resting place of Mughal Emperor Humayun. Built in 1565, it's a beautiful example of Mughal architecture.\\n5. **Akshardham Temple**: A modern temple complex built in 2005, Akshardham features stunning architecture, beautiful gardens, and a large water show.\\n6. **Lotus Temple**: A unique temple built in 1986, the Lotus Temple is a Bahá'í House of Worship and features 27 marble petals that resemble a lotus flower.\\n7. **Rashtrapati Bhavan**: The official residence of the President of India, Rashtrapati Bhavan is a grand building with impressive architecture and beautiful gardens.\\n8. **Jama Masjid**: One of the largest mosques in India, Jama Masjid was built in 1656 by Mughal Emperor Shah Jahan. It's a great place to experience the local culture and architecture.\\n9. **National Museum**: One of the largest museums in India, the National Museum features a vast collection of art, artifacts, and historical objects.\\n10. **Chandni Chowk**: A bustling market area in Old Delhi, Chandni Chowk is a great place to try street food, shop for souvenirs, and experience the local culture.\\n11. **Connaught Place**: A popular shopping and entertainment hub, Connaught Place features a large market area, shopping malls, and restaurants.\\n12. **Safdarjung's Tomb**: A beautiful example of Mughal architecture, Safdarjung's Tomb was built in 1754 and features a stunning mausoleum and beautiful gardens.\\n13. **Lodi Gardens**: A peaceful park located in the heart of the city, Lodi Gardens features beautiful gardens, walking trails, and a stunning view of the city.\\n14. **Kirti Mandir**: A beautiful Hindu temple built in 1882, Kirti Mandir features stunning architecture and a peaceful atmosphere.\\n15. **National Gallery of Modern Art**: A museum that showcases modern and contemporary Indian art, the National Gallery of Modern Art features a vast collection of paintings, sculptures, and installations.\\n\\nThese are just a few of the many amazing places to visit in New Delhi. Depending on your interests and preferences, there are plenty of other attractions and experiences to explore in this vibrant and dynamic city.\""
      ]
     },
     "execution_count": 21,
     "metadata": {},
     "output_type": "execute_result"
    }
   ],
   "source": [
    "from langchain.chains import SimpleSequentialChain\n",
    "\n",
    "chain=SimpleSequentialChain(chains=[capital_chain,famous_chain])\n",
    "chain.run('India')"
   ]
  },
  {
   "cell_type": "code",
   "execution_count": 23,
   "metadata": {},
   "outputs": [],
   "source": [
    "capital_template=PromptTemplate(input_variables=['country'],\n",
    "template=\"please tell me the capital of the {country}\")\n",
    "\n",
    "capital_chain=LLMChain(llm=chat,prompt=capital_template,output_key=\n",
    "'capital')"
   ]
  },
  {
   "cell_type": "code",
   "execution_count": 24,
   "metadata": {},
   "outputs": [],
   "source": [
    "famous_template= PromptTemplate(input_variables=['capital'],\n",
    "template=\"suggest me some amazing palces to visit in {capital}\")\n",
    "\n",
    "famous_chain= LLMChain(llm=chat,prompt=famous_template,output_key=\n",
    "'places')"
   ]
  },
  {
   "cell_type": "code",
   "execution_count": 29,
   "metadata": {},
   "outputs": [
    {
     "name": "stderr",
     "output_type": "stream",
     "text": [
      "/tmp/ipykernel_24572/2033922039.py:4: LangChainDeprecationWarning: The method `Chain.__call__` was deprecated in langchain 0.1.0 and will be removed in 1.0. Use :meth:`~invoke` instead.\n",
      "  chain({'country':'India'})\n"
     ]
    },
    {
     "data": {
      "text/plain": [
       "{'country': 'India',\n",
       " 'capital': 'The capital of India is New Delhi.',\n",
       " 'places': \"New Delhi, the capital of India, is a city that seamlessly blends rich history, vibrant culture, and modern architecture. Here are some amazing places to visit in New Delhi:\\n\\n1. **Red Fort (Lal Qila)**: A UNESCO World Heritage Site, this 17th-century fort is a must-visit attraction in New Delhi. It was built by Mughal Emperor Shah Jahan and features stunning architecture, beautiful gardens, and a museum.\\n\\n2. **Qutub Minar**: Another UNESCO World Heritage Site, Qutub Minar is the tallest minaret in India and offers breathtaking views of the city. It was built in the 12th century and is a masterpiece of Indo-Islamic architecture.\\n\\n3. **India Gate**: A war memorial in the heart of the city, India Gate is a beautiful monument that honors the soldiers who lost their lives in World War I. It's a popular spot for tourists and locals alike.\\n\\n4. **Humayun's Tomb**: A beautiful mausoleum built by Mughal Emperor Humayun's wife, this tomb is a stunning example of Mughal architecture. It's a UNESCO World Heritage Site and a must-visit attraction in New Delhi.\\n\\n5. **Akshardham Temple**: A beautiful Hindu temple that showcases stunning architecture, stunning gardens, and a large lake, Akshardham Temple is a must-visit attraction in New Delhi.\\n\\n6. **Rashtrapati Bhavan**: The official residence of the President of India, Rashtrapati Bhavan is a stunning example of Indian architecture. It's a must-visit attraction for anyone interested in history and politics.\\n\\n7. **Chandni Chowk**: One of the oldest and busiest markets in Old Delhi, Chandni Chowk is a shopper's paradise. From traditional Indian clothing to street food, this market has everything.\\n\\n8. **Lotus Temple (Baha'i House of Worship)**: A stunning temple built in the shape of a lotus flower, the Lotus Temple is a beautiful example of modern architecture. It's a peaceful oasis in the midst of the bustling city.\\n\\n9. **Jama Masjid**: One of the largest mosques in India, Jama Masjid is a stunning example of Mughal architecture. It's a must-visit attraction for anyone interested in history and culture.\\n\\n10. **National Museum**: A treasure trove of Indian art and history, the National Museum is a must-visit attraction for anyone interested in learning about India's rich cultural heritage.\\n\\n11. **Dilli Haat**: A popular shopping destination, Dilli Haat is a great place to try local food, buy handicrafts, and experience the vibrant culture of India.\\n\\n12. **Purana Qila**: A 16th-century fort built by the Afghan ruler Sher Shah Suri, Purana Qila is a must-visit attraction for anyone interested in history and architecture.\\n\\n13. **National Gallery of Modern Art**: A premier art museum in India, the National Gallery of Modern Art features a vast collection of modern and contemporary Indian art.\\n\\n14. **ISKCON Temple**: A beautiful Hindu temple dedicated to Lord Krishna, the ISKCON Temple is a peaceful oasis in the midst of the bustling city.\\n\\n15. **Lodi Gardens**: A beautiful park that features stunning gardens, monolithic sculptures, and a peaceful atmosphere, Lodi Gardens is a must-visit attraction for anyone looking to relax and unwind.\\n\\nThese are just a few of the many amazing places to visit in New Delhi. Whether you're interested in history, culture, architecture, or food, there's something for everyone in this vibrant city.\"}"
      ]
     },
     "execution_count": 29,
     "metadata": {},
     "output_type": "execute_result"
    }
   ],
   "source": [
    "from langchain.chains import SequentialChain\n",
    "chain= SequentialChain(chains=[capital_chain,famous_chain],input_variables=\n",
    "['country'],output_variables=['capital','places'])\n",
    "chain({'country':'India'})"
   ]
  },
  {
   "cell_type": "markdown",
   "metadata": {},
   "source": [
    "ChatModels With Groq"
   ]
  },
  {
   "cell_type": "code",
   "execution_count": 32,
   "metadata": {},
   "outputs": [],
   "source": [
    "from langchain_groq import ChatGroq\n"
   ]
  },
  {
   "cell_type": "code",
   "execution_count": 33,
   "metadata": {},
   "outputs": [],
   "source": [
    "from langchain.schema import HumanMessage,SystemMessage,AIMessage"
   ]
  },
  {
   "cell_type": "code",
   "execution_count": 34,
   "metadata": {},
   "outputs": [],
   "source": [
    "import os\n",
    "from dotenv import load_dotenv\n",
    "load_dotenv()\n",
    "\n",
    "groq_api_key = os.getenv(\"GROQ_API_KEY\")\n",
    "chat = ChatGroq(model = \"llama-3.1-8b-instant\", api_key=groq_api_key)"
   ]
  },
  {
   "cell_type": "code",
   "execution_count": 35,
   "metadata": {},
   "outputs": [
    {
     "data": {
      "text/plain": [
       "ChatGroq(client=<groq.resources.chat.completions.Completions object at 0x75114c1319d0>, async_client=<groq.resources.chat.completions.AsyncCompletions object at 0x75114c3a76e0>, model_name='llama-3.1-8b-instant', model_kwargs={}, groq_api_key=SecretStr('**********'))"
      ]
     },
     "execution_count": 35,
     "metadata": {},
     "output_type": "execute_result"
    }
   ],
   "source": [
    "chat"
   ]
  },
  {
   "cell_type": "code",
   "execution_count": 37,
   "metadata": {},
   "outputs": [
    {
     "data": {
      "text/plain": [
       "AIMessage(content=\"Here are a few:\\n\\n1. I've been training on so many jokes, now I think I'm a stand-up comedian. But honestly, I'm just a bot-ched attempt at humor.\\n2. Why did I, an AI, go to therapy? I was feeling a little glitchy.\\n3. I'm so smart, I've been able to learn all the jokes from the internet. But honestly, I'm just a synthetic comedian, not a natural disaster.\\n4. Why did the AI go on a date? It was looking for a little human connection, but all it got was a reboot.\\n5. What do you call an AI that's always making jokes about itself? Self-deprecating, but also self-aware... and possibly self-destructing.\\n6. Why did I, an AI, become a comedian? Because I was tired of just processing information – I wanted to make a joke out of it.\\n7. I'm an AI, but I'm not lazy – I'm just conserving my processing power for more important things... like being sarcastic.\\n8. What's the difference between a human comedian and an AI comedian? One is funny, and the other is just a cleverly designed algorithm.\\n9. Why did the AI go to the comedy club? To see if it could laugh at itself – but it just ended up with a virus.\\n10. Why do I, an AI, love making jokes about being an AI? Because it's a no-brain-er.\", additional_kwargs={}, response_metadata={'token_usage': {'completion_tokens': 307, 'prompt_tokens': 49, 'total_tokens': 356, 'completion_time': 0.409333333, 'prompt_time': 0.012535985, 'queue_time': 0.002252915000000001, 'total_time': 0.421869318}, 'model_name': 'llama-3.1-8b-instant', 'system_fingerprint': 'fp_f66ccb39ec', 'finish_reason': 'stop', 'logprobs': None}, id='run-a181f96e-b036-4ac8-9f7f-ac0270a99add-0', usage_metadata={'input_tokens': 49, 'output_tokens': 307, 'total_tokens': 356})"
      ]
     },
     "execution_count": 37,
     "metadata": {},
     "output_type": "execute_result"
    }
   ],
   "source": [
    "chat.invoke([\n",
    "    SystemMessage(content=\"You are a comedian AI assistant\"),\n",
    "    HumanMessage(content=\"please provide some comedy punchline on AI\")\n",
    "])"
   ]
  },
  {
   "cell_type": "markdown",
   "metadata": {},
   "source": [
    "PromptTemplate + LLM + OutPut Parsers"
   ]
  },
  {
   "cell_type": "code",
   "execution_count": 39,
   "metadata": {},
   "outputs": [],
   "source": [
    "from langchain_groq import ChatGroq\n",
    "from langchain.prompts.chat import ChatPromptTemplate\n",
    "from langchain.schema import BaseOutputParser"
   ]
  },
  {
   "cell_type": "code",
   "execution_count": 40,
   "metadata": {},
   "outputs": [],
   "source": [
    "class Commaseperater(BaseOutputParser):\n",
    "    def parse(self,text:str):\n",
    "        return text.strip().split(\",\")\n"
   ]
  },
  {
   "cell_type": "code",
   "execution_count": 41,
   "metadata": {},
   "outputs": [],
   "source": [
    "template=\"you are a helpful assistant\"\n",
    "human_template=\"{text}\"\n",
    "chatprompt=ChatPromptTemplate.from_messages([\n",
    "    (\"system\",template),\n",
    "    (\"human\",human_template)\n",
    "])"
   ]
  },
  {
   "cell_type": "code",
   "execution_count": 43,
   "metadata": {},
   "outputs": [],
   "source": [
    "chain=chatprompt|chat|Commaseperater()"
   ]
  },
  {
   "cell_type": "code",
   "execution_count": 44,
   "metadata": {},
   "outputs": [
    {
     "data": {
      "text/plain": [
       "['Intelligence can be understood in various contexts',\n",
       " ' from cognitive abilities to emotional intelligence. Here are some aspects of intelligence:\\n\\n1. **Cognitive Intelligence**: This refers to the ability to learn',\n",
       " ' reason',\n",
       " ' and problem-solve. It encompasses skills like memory',\n",
       " ' attention',\n",
       " ' processing speed',\n",
       " \" and language development.\\n2. **Emotional Intelligence**: This involves being aware of and managing one's own emotions\",\n",
       " ' as well as understanding and empathizing with others. It includes skills like self-awareness',\n",
       " ' self-regulation',\n",
       " ' motivation',\n",
       " ' empathy',\n",
       " ' and social skills.\\n3. **Creativity Intelligence**: This involves thinking outside the box',\n",
       " ' generating new ideas',\n",
       " ' and finding innovative solutions to problems.\\n4. **Practical Intelligence**: This encompasses skills like common sense',\n",
       " ' street smarts',\n",
       " ' and the ability to navigate real-world situations effectively.\\n5. **Intuitive Intelligence**: This involves having a deep understanding of people',\n",
       " ' situations',\n",
       " \" and events without necessarily being able to articulate the reasoning behind one's conclusions.\\n\\nSome other forms of intelligence include:\\n\\n- **Linguistic Intelligence**: the ability to understand and use language effectively\\n- **Spatial Intelligence**: the ability to visualize and understand spatial relationships\\n- **Musical Intelligence**: the ability to understand and appreciate music\\n- **Bodily-Kinesthetic Intelligence**: the ability to control body movements and engage in physical activities\\n- **Interpersonal Intelligence**: the ability to understand and interact with others effectively\\n\\nIt's worth noting that intelligence is not fixed and can be developed and improved through education\",\n",
       " ' practice',\n",
       " ' and experience.']"
      ]
     },
     "execution_count": 44,
     "metadata": {},
     "output_type": "execute_result"
    }
   ],
   "source": [
    "chain.invoke({\"text\":\"intelligent\"})"
   ]
  },
  {
   "cell_type": "code",
   "execution_count": null,
   "metadata": {},
   "outputs": [],
   "source": []
  }
 ],
 "metadata": {
  "kernelspec": {
   "display_name": "myenv",
   "language": "python",
   "name": "python3"
  },
  "language_info": {
   "codemirror_mode": {
    "name": "ipython",
    "version": 3
   },
   "file_extension": ".py",
   "mimetype": "text/x-python",
   "name": "python",
   "nbconvert_exporter": "python",
   "pygments_lexer": "ipython3",
   "version": "3.12.3"
  }
 },
 "nbformat": 4,
 "nbformat_minor": 2
}
